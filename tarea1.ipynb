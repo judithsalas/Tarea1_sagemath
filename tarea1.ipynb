# Importante a la hora de ejecutar el código se deberá de ejecutar el kernel de sagemath.

# Ejercicio 1. 
potencia = 2**5
division = 28 / potencia
aproximación = round(division, 2)
print(aproximación, division)

# Ejercicio 2. Calcula la raiz de dos y una aproximaxión con redondeo
aprox = sqrt(2)
# Redondeamos la aproximación decimal a dos decimales
redondeo = round(aprox, 2)
# Imprimimos el resultado
print(redondeo)

# Ejercicio 3. Calcular la raíz cuadrada de -9
from sage.all import *
num = -9
raiz_cuadrada = sqrt(num)
print(raiz_cuadrada)

# Ejercicio 4 
import math

numero = 2153693963075557766310747
logaritmo_base3 = math.log(numero, 3)

logaritmo_base3

#Ejercicio 5.
e = n(e, 50)
print(e)

#Ejercicio 6  
# Importar la constante pi de SageMath
from sage.all import pi

# Configurar la precisión decimal
precision_decimal = 80

# Obtener los primeros 80 decimales de pi
pi_con_precision = RealField(prec=precision_decimal)(pi)

# Mostrar el resultado
print(pi_con_precision)

# Ejercicio 7
dividendo = 956
divisor = 98
cociente = dividendo // divisor
resto = dividendo % divisor
cociente, resto

# Ejercicio 8
dividendo = 956
divisor = 98
cociente = dividendo // divisor
resto = dividendo % divisor
# Prueba de Euclides
producto = divisor * cociente
resultado = producto + resto
dividendo == resultado

# Ejercicio 9. Si 3 es divisor de 234878 saldrá un true al ejecutar, de lo contrario, saldrá un false.
divisible = (234878 % 3 == 0)
print(divisible)

# Ejercicio 10.
numeros = [134, 491, 422, 1002]
for num in numeros:
    divisores = divisors(num)
    print(f"Divisores de {num}: {divisores}")

# Ejercicio 11. Para saber cuales de los números enteros dados son primos ejecutamos el siguiente código.
numeros = [134, 491, 422, 1002]

for numero in numeros:
    if is_prime(numero):
        print(f"{numero} es primo")
    else:
        print(f"{numero} no es primo")
